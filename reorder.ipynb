{
 "cells": [
  {
   "cell_type": "code",
   "execution_count": 1,
   "metadata": {},
   "outputs": [
    {
     "name": "stdout",
     "output_type": "stream",
     "text": [
      "Reordered GIF saved back to /Users/selincakmak/Desktop/461886587012201.gif\n"
     ]
    }
   ],
   "source": [
    "from PIL import Image, ImageSequence\n",
    "\n",
    "def reorder_gif(input_path, frame_order):\n",
    "    # Open the original GIF\n",
    "    with Image.open(input_path) as im:\n",
    "        # Extract all the frames as a list\n",
    "        frames = [frame.copy() for frame in ImageSequence.Iterator(im)]\n",
    "        \n",
    "        # Reorder the frames according to the frame_order list\n",
    "        reordered_frames = [frames[i] for i in frame_order]\n",
    "        \n",
    "        # Save the reordered frames as a new GIF\n",
    "        reordered_frames[0].save(\n",
    "            input_path,\n",
    "            save_all=True,\n",
    "            append_images=reordered_frames[1:],\n",
    "            loop=0,\n",
    "            duration=im.info['duration'],\n",
    "            disposal=2\n",
    "        )\n",
    "\n",
    "# Example usage\n",
    "input_gif = '/Users/selincakmak/Desktop/461886587012201.gif'\n",
    "\n",
    "# Example: reversing the frame order\n",
    "frame_order = [6, 8, 5, 7, 5, 2, 3, 1, 0]\n",
    "\n",
    "reorder_gif(input_gif, frame_order)\n",
    "\n",
    "print(f\"Reordered GIF saved back to {input_gif}\")\n"
   ]
  }
 ],
 "metadata": {
  "kernelspec": {
   "display_name": "base",
   "language": "python",
   "name": "python3"
  },
  "language_info": {
   "codemirror_mode": {
    "name": "ipython",
    "version": 3
   },
   "file_extension": ".py",
   "mimetype": "text/x-python",
   "name": "python",
   "nbconvert_exporter": "python",
   "pygments_lexer": "ipython3",
   "version": "3.9.13"
  }
 },
 "nbformat": 4,
 "nbformat_minor": 2
}
